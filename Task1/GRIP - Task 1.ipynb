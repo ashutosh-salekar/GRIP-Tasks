{
 "cells": [
  {
   "cell_type": "markdown",
   "metadata": {},
   "source": [
    "# GRIP 2020\n",
    "\n",
    "### Name    : Ashutosh Dattatray Salekar\n",
    "### Task 1   : Object Detection in image and video\n",
    "### Github  : https://github.com/ashutosh-salekar/GRIP-Tasks/tree/main/Task1"
   ]
  },
  {
   "cell_type": "markdown",
   "metadata": {},
   "source": [
    "# Prerequisite: \n",
    "- You Only Look Once or more popularly known as YOLO is one of the fastest real-time object detection algorithm \n",
    "   (45 frames per seconds) as compared to R-CNN family (R-CNN, Fast R-CNN, Faster R-CNN, etc.)\n",
    "   \n",
    "   \n",
    "- We have two options to get started with object detection:\n",
    "   - Using the pre-trained model\n",
    "   - Training custom object detector from scratch\n",
    "   \n",
    "   \n",
    "- In this code, we will be looking at creating an object detector using the pre-trained model for images, \n",
    "   videos and real-time webcam.\n",
    "   \n",
    "   \n",
    "- As we are going with pre-trained model approach we will also need to download a couple of files which includes\n",
    "   the pre-trained weights of YoloV3, the configuration file and names file.\n"
   ]
  },
  {
   "cell_type": "code",
   "execution_count": 1,
   "metadata": {},
   "outputs": [],
   "source": [
    "import numpy as np     # version : 1.19.2\n",
    "import cv2             # version : 4.4.0"
   ]
  },
  {
   "cell_type": "code",
   "execution_count": 2,
   "metadata": {},
   "outputs": [],
   "source": [
    "# coco.names file contains the names of the different objects that our model has been trained to identify.\n",
    "f = open(\"coco.names\", 'r')\n",
    "classes = f.read().rstrip(\"\\n\").split(\"\\n\")"
   ]
  },
  {
   "cell_type": "code",
   "execution_count": 3,
   "metadata": {},
   "outputs": [],
   "source": [
    "# I am loading the YoloV3 weights and configuration file with the help of dnn module of OpenCV.\n",
    "net = cv2.dnn.readNet('yolov3.weights', 'yolov3.cfg')"
   ]
  },
  {
   "cell_type": "code",
   "execution_count": 4,
   "metadata": {},
   "outputs": [],
   "source": [
    "cap = cv2.VideoCapture(r\"car.mp4\")    # Load the video file \n",
    "\n",
    "while True:\n",
    "    _, img = cap.read()\n",
    "    height, width, _ = img.shape\n",
    "\n",
    "    # We need to preprocess our data hence we useblobFromImage. The function perform scaling, mean subtraction and channel swap\n",
    "    blob = cv2.dnn.blobFromImage(img, 1 / 255, (416, 416), (0, 0, 0), swapRB=True, crop=False)\n",
    "\n",
    "    \"\"\"\n",
    "    # optinal part\n",
    "    for b in blob:\n",
    "        for n,img_blob in enumerate(b):\n",
    "            cv2.imshow(str(n),img_blob)\n",
    "    \"\"\"\n",
    "\n",
    "    net.setInput(blob)\n",
    "    output_layers_names = net.getUnconnectedOutLayersNames()\n",
    "    \n",
    "    \"\"\"\n",
    "    The forward() function of cv2.dnn module returns a nested list containing information about all the detected objects\n",
    "    which includes the x and y coordinates of the centre of the object detected, height and width of the bounding box,\n",
    "    confidence and scores for all the classes of objects listed in coco.names.\n",
    "    \"\"\"\n",
    "    layerOutputs = net.forward(output_layers_names)\n",
    "\n",
    "    boxes = []\n",
    "    confidences = []\n",
    "    class_ids = []\n",
    "\n",
    "    for output in layerOutputs:\n",
    "        for detection in output:\n",
    "            scores = detection[5:]\n",
    "            class_id = np.argmax(scores)  # returns index of max value\n",
    "            confidence = scores[class_id]\n",
    "\n",
    "            if confidence > 0.5:\n",
    "                \"\"\"\n",
    "                #This are normalize values because of \"blob\" function hence we have to scale it them to original\n",
    "                 values again. For that we will multiply them with width and height of original image.\n",
    "\n",
    "                center_x  = int(detection[0]) \n",
    "                center_y =  int(detection[1])\n",
    "                w = int(detection[2])\n",
    "                h = int(detection[3]) \n",
    "                \"\"\"\n",
    "                center_x = int(detection[0] * width)\n",
    "                center_y = int(detection[1] * height)\n",
    "                w = int(detection[2] * width)\n",
    "                h = int(detection[3] * height)\n",
    "\n",
    "                x = int(center_x - w / 2)\n",
    "                y = int(center_y - h / 2)\n",
    "\n",
    "                boxes.append([x, y, w, h])\n",
    "                confidences.append(float(confidence))\n",
    "                class_ids.append(class_id)\n",
    "    \n",
    "    \"\"\"\n",
    "    Although we removed the low confidence bounding boxes, there is a possibility that we will still \n",
    "    have duplicate detections around an object.\n",
    "    To fix this situation we’ll need to apply Non-Maximum Suppression (NMS). We pass in confidence threshold value \n",
    "    and NMS threshold value as parameters to select one bounding box.\n",
    "    \n",
    "    \"\"\"\n",
    "    indexes = cv2.dnn.NMSBoxes(boxes, confidences, 0.5, 0.4)  # Removing unnecessary boxes\n",
    "\n",
    "    \n",
    "    font = cv2.FONT_HERSHEY_PLAIN\n",
    "    colors = np.random.uniform(0, 255, size=(len(boxes), 3))  # Random colors for bounding boxes\n",
    "\n",
    "    for i in indexes.flatten():\n",
    "        x, y, w, h = boxes[i]\n",
    "        label = str(classes[class_ids[i]])\n",
    "        confidence = str(round(confidences[i], 2))\n",
    "        color = colors[i]\n",
    "        cv2.rectangle(img, (x, y), (x + w, y + h), color, 2)\n",
    "        cv2.putText(img, label + \" \" + confidence, (x, y - 5), font, 0.8, (255, 255, 255), 2)\n",
    "\n",
    "    cv2.imshow(\"image\", img)\n",
    "    key = cv2.waitKey(1)\n",
    "    if key ==27:\n",
    "        break\n",
    "\n",
    "cap.release()\n",
    "cv2.destroyAllWindows()"
   ]
  }
 ],
 "metadata": {
  "kernelspec": {
   "display_name": "Python 3",
   "language": "python",
   "name": "python3"
  },
  "language_info": {
   "codemirror_mode": {
    "name": "ipython",
    "version": 3
   },
   "file_extension": ".py",
   "mimetype": "text/x-python",
   "name": "python",
   "nbconvert_exporter": "python",
   "pygments_lexer": "ipython3",
   "version": "3.7.9"
  }
 },
 "nbformat": 4,
 "nbformat_minor": 4
}
